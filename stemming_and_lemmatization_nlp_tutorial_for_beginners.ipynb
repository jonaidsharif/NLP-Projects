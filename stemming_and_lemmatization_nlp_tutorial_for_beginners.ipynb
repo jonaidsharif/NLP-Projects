{
  "nbformat": 4,
  "nbformat_minor": 0,
  "metadata": {
    "colab": {
      "provenance": [],
      "authorship_tag": "ABX9TyPRs6UE05uC4yM5LGNdLKrD",
      "include_colab_link": true
    },
    "kernelspec": {
      "name": "python3",
      "display_name": "Python 3"
    },
    "language_info": {
      "name": "python"
    }
  },
  "cells": [
    {
      "cell_type": "markdown",
      "metadata": {
        "id": "view-in-github",
        "colab_type": "text"
      },
      "source": [
        "<a href=\"https://colab.research.google.com/github/jonaidsharif/NLP-Projects/blob/main/stemming_and_lemmatization_nlp_tutorial_for_beginners.ipynb\" target=\"_parent\"><img src=\"https://colab.research.google.com/assets/colab-badge.svg\" alt=\"Open In Colab\"/></a>"
      ]
    },
    {
      "cell_type": "code",
      "execution_count": null,
      "metadata": {
        "id": "VdA5XPI7yjfc"
      },
      "outputs": [],
      "source": [
        "import nltk\n",
        "import spacy"
      ]
    },
    {
      "cell_type": "code",
      "source": [
        "from nltk.stem import PorterStemmer\n",
        "\n",
        "stemmer = PorterStemmer()"
      ],
      "metadata": {
        "id": "maOjYwo5yvFa"
      },
      "execution_count": null,
      "outputs": []
    },
    {
      "cell_type": "code",
      "source": [
        "words = [\"loving\", \"missing\", \"hugging\", \"ate\", \"adjustable\", \"rafting\", \"meeting\"]\n",
        "\n",
        "for word in words:\n",
        "    print(word,   \"|\",   stemmer.stem(word))"
      ],
      "metadata": {
        "colab": {
          "base_uri": "https://localhost:8080/"
        },
        "id": "4fZFdEA3y9ZP",
        "outputId": "d085b6f8-7f89-46fa-986a-ca4a49dc28c6"
      },
      "execution_count": null,
      "outputs": [
        {
          "output_type": "stream",
          "name": "stdout",
          "text": [
            "loving | love\n",
            "missing | miss\n",
            "hugging | hug\n",
            "ate | ate\n",
            "adjustable | adjust\n",
            "rafting | raft\n",
            "meeting | meet\n"
          ]
        }
      ]
    },
    {
      "cell_type": "code",
      "source": [
        "nlp = spacy.load(\"en_core_web_sm\")\n",
        "\n",
        "doc = nlp(\"eating eats eat ate missing hugging adjustable rafting ability meeting better\")\n",
        "\n",
        "for token in doc:\n",
        "  print(token, \"|\", token.lemma_)"
      ],
      "metadata": {
        "colab": {
          "base_uri": "https://localhost:8080/"
        },
        "id": "Wxwsxk9B2TFt",
        "outputId": "21dd944e-fbf3-45e2-88d2-e96799957de0"
      },
      "execution_count": null,
      "outputs": [
        {
          "output_type": "stream",
          "name": "stdout",
          "text": [
            "eating | eat\n",
            "eats | eat\n",
            "eat | eat\n",
            "ate | eat\n",
            "missing | miss\n",
            "hugging | hug\n",
            "adjustable | adjustable\n",
            "rafting | rafting\n",
            "ability | ability\n",
            "meeting | meet\n",
            "better | well\n"
          ]
        }
      ]
    },
    {
      "cell_type": "code",
      "source": [
        "nlp = spacy.load(\"en_core_web_sm\")\n",
        "\n",
        "doc = nlp(\"eating eats eat ate missing hugging adjustable rafting ability meeting better\")\n",
        "\n",
        "for token in doc:\n",
        "  print(token, \"|\", token.lemma_, \"|\", token.lemma)"
      ],
      "metadata": {
        "colab": {
          "base_uri": "https://localhost:8080/"
        },
        "id": "pRnDD2sHzreD",
        "outputId": "1f15f01e-e207-43bf-82ad-707f74f37ccc"
      },
      "execution_count": null,
      "outputs": [
        {
          "output_type": "stream",
          "name": "stdout",
          "text": [
            "eating | eat | 9837207709914848172\n",
            "eats | eat | 9837207709914848172\n",
            "eat | eat | 9837207709914848172\n",
            "ate | eat | 9837207709914848172\n",
            "missing | miss | 11398779675522253934\n",
            "hugging | hug | 6279602817303259762\n",
            "adjustable | adjustable | 6033511944150694480\n",
            "rafting | rafting | 1196139325854331\n",
            "ability | ability | 11565809527369121409\n",
            "meeting | meet | 6880656908171229526\n",
            "better | well | 4525988469032889948\n"
          ]
        }
      ]
    },
    {
      "cell_type": "code",
      "source": [
        "doc = nlp(\"Mando talked for 3 hours although talking is n't his thing he became talkative\")\n",
        "\n",
        "for token in doc:\n",
        "  print(token, \"|\", token.lemma_, \"|\", token.lemma)"
      ],
      "metadata": {
        "colab": {
          "base_uri": "https://localhost:8080/"
        },
        "id": "eA65YYFt2ePm",
        "outputId": "de17003f-a513-4b84-927d-3201bca3015d"
      },
      "execution_count": null,
      "outputs": [
        {
          "output_type": "stream",
          "name": "stdout",
          "text": [
            "Mando | Mando | 7837215228004622142\n",
            "talked | talk | 13939146775466599234\n",
            "for | for | 16037325823156266367\n",
            "3 | 3 | 602994839685422785\n",
            "hours | hour | 9748623380567160636\n",
            "although | although | 343236316598008647\n",
            "talking | talk | 13939146775466599234\n",
            "is | be | 10382539506755952630\n",
            "n't | not | 447765159362469301\n",
            "his | his | 2661093235354845946\n",
            "thing | thing | 2473243759842082748\n",
            "he | he | 1655312771067108281\n",
            "became | become | 12558846041070486771\n",
            "talkative | talkative | 13364764166055324990\n"
          ]
        }
      ]
    },
    {
      "cell_type": "code",
      "source": [
        "nlp.pipe_names"
      ],
      "metadata": {
        "colab": {
          "base_uri": "https://localhost:8080/"
        },
        "id": "ArxxXpT93GS-",
        "outputId": "38344664-4693-400e-a142-2ea28b7f221c"
      },
      "execution_count": null,
      "outputs": [
        {
          "output_type": "execute_result",
          "data": {
            "text/plain": [
              "['tok2vec', 'tagger', 'parser', 'attribute_ruler', 'lemmatizer', 'ner']"
            ]
          },
          "metadata": {},
          "execution_count": 9
        }
      ]
    },
    {
      "cell_type": "code",
      "source": [
        "doc = nlp(\"Bro, you wanne go? Brah, do n't say no ! I am exhausted\")\n",
        "\n",
        "for token in doc:\n",
        "  print(token, \"|\", token.lemma_)"
      ],
      "metadata": {
        "colab": {
          "base_uri": "https://localhost:8080/"
        },
        "id": "IJydR0Ze3L5k",
        "outputId": "88f05349-6bfd-44d4-bb35-292d6e7bf424"
      },
      "execution_count": null,
      "outputs": [
        {
          "output_type": "stream",
          "name": "stdout",
          "text": [
            "Bro | Bro\n",
            ", | ,\n",
            "you | you\n",
            "wanne | wanne\n",
            "go | go\n",
            "? | ?\n",
            "Brah | Brah\n",
            ", | ,\n",
            "do | do\n",
            "n't | not\n",
            "say | say\n",
            "no | no\n",
            "! | !\n",
            "I | I\n",
            "am | be\n",
            "exhausted | exhaust\n"
          ]
        }
      ]
    },
    {
      "cell_type": "code",
      "source": [
        "doc[0]"
      ],
      "metadata": {
        "colab": {
          "base_uri": "https://localhost:8080/"
        },
        "id": "pE8cXarM3kUG",
        "outputId": "c8f64c59-3ce5-47cd-edfa-acbbccfef741"
      },
      "execution_count": null,
      "outputs": [
        {
          "output_type": "execute_result",
          "data": {
            "text/plain": [
              "Bro"
            ]
          },
          "metadata": {},
          "execution_count": 20
        }
      ]
    },
    {
      "cell_type": "code",
      "source": [
        "doc[0].lemma_"
      ],
      "metadata": {
        "colab": {
          "base_uri": "https://localhost:8080/",
          "height": 35
        },
        "id": "gdK8ODuX4ljl",
        "outputId": "1a4ebfe0-bf66-4986-e959-f883fec13e59"
      },
      "execution_count": null,
      "outputs": [
        {
          "output_type": "execute_result",
          "data": {
            "text/plain": [
              "'Bro'"
            ],
            "application/vnd.google.colaboratory.intrinsic+json": {
              "type": "string"
            }
          },
          "metadata": {},
          "execution_count": 21
        }
      ]
    },
    {
      "cell_type": "code",
      "source": [
        "ar = nlp.get_pipe('attribute_ruler')\n",
        "ar.add([[{\"TEXT\": \"Bro\"}], [{\"TEXT\": \"Brah\"}]], {\"LEMMA\": \"Brother\"})\n",
        "\n",
        "doc = nlp(\"Bro, you wanne go? Brah, do n't say no ! I am exhausted\")\n",
        "\n",
        "for token in doc:\n",
        "  print(token, \"|\", token.lemma_)"
      ],
      "metadata": {
        "colab": {
          "base_uri": "https://localhost:8080/"
        },
        "id": "hRIb_v6M6EYJ",
        "outputId": "3463f90f-3a72-4ab9-ff64-6c3195581317"
      },
      "execution_count": null,
      "outputs": [
        {
          "output_type": "stream",
          "name": "stdout",
          "text": [
            "Bro | Brother\n",
            ", | ,\n",
            "you | you\n",
            "wanne | wanne\n",
            "go | go\n",
            "? | ?\n",
            "Brah | Brother\n",
            ", | ,\n",
            "do | do\n",
            "n't | not\n",
            "say | say\n",
            "no | no\n",
            "! | !\n",
            "I | I\n",
            "am | be\n",
            "exhausted | exhaust\n"
          ]
        }
      ]
    },
    {
      "cell_type": "code",
      "source": [
        "doc[0]"
      ],
      "metadata": {
        "colab": {
          "base_uri": "https://localhost:8080/"
        },
        "id": "b5UbwGN46kE3",
        "outputId": "1cbd60db-5071-41b9-ec64-70b74cf10f98"
      },
      "execution_count": null,
      "outputs": [
        {
          "output_type": "execute_result",
          "data": {
            "text/plain": [
              "Bro"
            ]
          },
          "metadata": {},
          "execution_count": 23
        }
      ]
    },
    {
      "cell_type": "code",
      "source": [
        "doc[0].lemma_"
      ],
      "metadata": {
        "colab": {
          "base_uri": "https://localhost:8080/",
          "height": 35
        },
        "id": "rR5zpqTx6njs",
        "outputId": "9a3ead6b-7299-4f04-e894-41839500f75b"
      },
      "execution_count": null,
      "outputs": [
        {
          "output_type": "execute_result",
          "data": {
            "text/plain": [
              "'Brother'"
            ],
            "application/vnd.google.colaboratory.intrinsic+json": {
              "type": "string"
            }
          },
          "metadata": {},
          "execution_count": 24
        }
      ]
    },
    {
      "cell_type": "code",
      "source": [],
      "metadata": {
        "id": "mUlHxHJn6voB"
      },
      "execution_count": null,
      "outputs": []
    }
  ]
}