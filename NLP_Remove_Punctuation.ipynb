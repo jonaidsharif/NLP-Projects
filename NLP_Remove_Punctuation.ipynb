{
  "nbformat": 4,
  "nbformat_minor": 0,
  "metadata": {
    "colab": {
      "provenance": [],
      "authorship_tag": "ABX9TyOy8JuMgzh5yGolcuUzu5MS",
      "include_colab_link": true
    },
    "kernelspec": {
      "name": "python3",
      "display_name": "Python 3"
    },
    "language_info": {
      "name": "python"
    }
  },
  "cells": [
    {
      "cell_type": "markdown",
      "metadata": {
        "id": "view-in-github",
        "colab_type": "text"
      },
      "source": [
        "<a href=\"https://colab.research.google.com/github/jonaidsharif/NLP-Projects/blob/main/NLP_Remove_Punctuation.ipynb\" target=\"_parent\"><img src=\"https://colab.research.google.com/assets/colab-badge.svg\" alt=\"Open In Colab\"/></a>"
      ]
    },
    {
      "cell_type": "code",
      "execution_count": 1,
      "metadata": {
        "id": "XJgSVf1kXe5g"
      },
      "outputs": [],
      "source": [
        "import re"
      ]
    },
    {
      "cell_type": "code",
      "source": [
        "sentence = '@TheLeagueSF Not Fun &amp; Furious? Motivated and detail-oriented graduate with practical experience using digital data collection tools such as SurveyCTO and Kobo Toolbox. well-versed in community-based initiatives, SEO, including field leadership'\n",
        "\n",
        "sentence = re.sub(r'@[A-Za-z0-9]+','',sentence)\n",
        "sentence"
      ],
      "metadata": {
        "colab": {
          "base_uri": "https://localhost:8080/",
          "height": 70
        },
        "id": "L2RyAS7y0wuX",
        "outputId": "6cbc7015-74ca-4974-832d-a4a05f9457c6"
      },
      "execution_count": 2,
      "outputs": [
        {
          "output_type": "execute_result",
          "data": {
            "text/plain": [
              "' Not Fun &amp; Furious? Motivated and detail-oriented graduate with practical experience using digital data collection tools such as SurveyCTO and Kobo Toolbox. well-versed in community-based initiatives, SEO, including field leadership'"
            ],
            "application/vnd.google.colaboratory.intrinsic+json": {
              "type": "string"
            }
          },
          "metadata": {},
          "execution_count": 2
        }
      ]
    },
    {
      "cell_type": "code",
      "source": [
        "sentence = \"@swithchfoot http://twitpic.com/2y1zl - Awww, that's a burnmed. You shoulda got David Carr of Third Day to do it. ;D\"\n",
        "sentence = re.sub('https?:[A-Za-z0-9./]+','', sentence)\n",
        "\n",
        "sentence"
      ],
      "metadata": {
        "colab": {
          "base_uri": "https://localhost:8080/",
          "height": 35
        },
        "id": "-hKNyWtN10NX",
        "outputId": "1448d936-2761-4103-ee53-b3bcb175792f"
      },
      "execution_count": 3,
      "outputs": [
        {
          "output_type": "execute_result",
          "data": {
            "text/plain": [
              "\"@swithchfoot  - Awww, that's a burnmed. You shoulda got David Carr of Third Day to do it. ;D\""
            ],
            "application/vnd.google.colaboratory.intrinsic+json": {
              "type": "string"
            }
          },
          "metadata": {},
          "execution_count": 3
        }
      ]
    },
    {
      "cell_type": "code",
      "source": [
        "sentence = \"@DJDipjol I'm so sorry youre having to go through this. Again, #therapyfail in my life\"\n",
        "sentence = re.sub('https?:[A-Za-z0-9./]+','', sentence)\n",
        "\n",
        "sentence"
      ],
      "metadata": {
        "colab": {
          "base_uri": "https://localhost:8080/",
          "height": 35
        },
        "id": "TFFRbF9U277Y",
        "outputId": "25c803b6-dbd8-4301-8bf7-8276b43a2db7"
      },
      "execution_count": 4,
      "outputs": [
        {
          "output_type": "execute_result",
          "data": {
            "text/plain": [
              "\"@DJDipjol I'm so sorry youre having to go through this. Again, #therapyfail in my life\""
            ],
            "application/vnd.google.colaboratory.intrinsic+json": {
              "type": "string"
            }
          },
          "metadata": {},
          "execution_count": 4
        }
      ]
    },
    {
      "cell_type": "code",
      "source": [
        "part1 = r'@[A-Za-z0-9]'\n",
        "part2 = r'https?://[A-Za-z0-9./]+'\n",
        "combined_part = r'|'.join((part1, part2))\n",
        "\n",
        "\n",
        "def text_cleaner(text):\n",
        "  stripped = re.sub(combined_part, '', text)\n",
        "  print(stripped)\n",
        "\n",
        "text_cleaner(\"swithchfoot http://twitpic.com/2y1zl - Awww, that's a burnmed. You shoulda got David Carr of Third Day to do it. ;D\")"
      ],
      "metadata": {
        "colab": {
          "base_uri": "https://localhost:8080/"
        },
        "id": "P3QvLNsN3RrI",
        "outputId": "90617310-f83f-4219-ffbc-632c32c791d4"
      },
      "execution_count": 5,
      "outputs": [
        {
          "output_type": "stream",
          "name": "stdout",
          "text": [
            "swithchfoot  - Awww, that's a burnmed. You shoulda got David Carr of Third Day to do it. ;D\n"
          ]
        }
      ]
    },
    {
      "cell_type": "code",
      "source": [],
      "metadata": {
        "id": "aMSZmiEd49xe"
      },
      "execution_count": null,
      "outputs": []
    }
  ]
}