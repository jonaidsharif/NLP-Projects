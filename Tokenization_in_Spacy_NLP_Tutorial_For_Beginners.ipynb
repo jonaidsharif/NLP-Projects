{
  "nbformat": 4,
  "nbformat_minor": 0,
  "metadata": {
    "colab": {
      "provenance": [],
      "authorship_tag": "ABX9TyP/H1VHlvqm4HJLTiW40IUW",
      "include_colab_link": true
    },
    "kernelspec": {
      "name": "python3",
      "display_name": "Python 3"
    },
    "language_info": {
      "name": "python"
    }
  },
  "cells": [
    {
      "cell_type": "markdown",
      "metadata": {
        "id": "view-in-github",
        "colab_type": "text"
      },
      "source": [
        "<a href=\"https://colab.research.google.com/github/jonaidsharif/NLP-Projects/blob/main/Tokenization_in_Spacy_NLP_Tutorial_For_Beginners.ipynb\" target=\"_parent\"><img src=\"https://colab.research.google.com/assets/colab-badge.svg\" alt=\"Open In Colab\"/></a>"
      ]
    },
    {
      "cell_type": "code",
      "execution_count": 37,
      "metadata": {
        "id": "OD6AAwurBQAJ"
      },
      "outputs": [],
      "source": [
        "import spacy"
      ]
    },
    {
      "cell_type": "code",
      "source": [
        "nlp = spacy.blank(\"en\")\n",
        "\n",
        "doc = nlp(\"Dr.  SEO, including field leadership. As a Field Research Assistant at iDE Bangladesh, I hope to help meaningful rural improvement by utilizing my experience and knowledge in GPS mapping, mobile-based survey technologies, and my understanding of the WASH sector\")\n",
        "\n",
        "for token in doc:\n",
        "  print(token)"
      ],
      "metadata": {
        "colab": {
          "base_uri": "https://localhost:8080/"
        },
        "id": "XD2pRtyUBWGl",
        "outputId": "b611ec3e-d5fa-40c5-a66b-07cdb7fd3a65"
      },
      "execution_count": 38,
      "outputs": [
        {
          "output_type": "stream",
          "name": "stdout",
          "text": [
            "Dr.\n",
            " \n",
            "SEO\n",
            ",\n",
            "including\n",
            "field\n",
            "leadership\n",
            ".\n",
            "As\n",
            "a\n",
            "Field\n",
            "Research\n",
            "Assistant\n",
            "at\n",
            "iDE\n",
            "Bangladesh\n",
            ",\n",
            "I\n",
            "hope\n",
            "to\n",
            "help\n",
            "meaningful\n",
            "rural\n",
            "improvement\n",
            "by\n",
            "utilizing\n",
            "my\n",
            "experience\n",
            "and\n",
            "knowledge\n",
            "in\n",
            "GPS\n",
            "mapping\n",
            ",\n",
            "mobile\n",
            "-\n",
            "based\n",
            "survey\n",
            "technologies\n",
            ",\n",
            "and\n",
            "my\n",
            "understanding\n",
            "of\n",
            "the\n",
            "WASH\n",
            "sector\n"
          ]
        }
      ]
    },
    {
      "cell_type": "code",
      "source": [
        "doc[2]"
      ],
      "metadata": {
        "colab": {
          "base_uri": "https://localhost:8080/"
        },
        "id": "1jhdsfAZB3_c",
        "outputId": "a484645a-0cd0-4660-cbbd-694672a2fcc6"
      },
      "execution_count": 39,
      "outputs": [
        {
          "output_type": "execute_result",
          "data": {
            "text/plain": [
              "SEO"
            ]
          },
          "metadata": {},
          "execution_count": 39
        }
      ]
    },
    {
      "cell_type": "code",
      "source": [
        "doc = nlp('''\"Let's go to N.Y.!\"''')\n",
        "\n",
        "for token in doc:\n",
        "  print(token)"
      ],
      "metadata": {
        "colab": {
          "base_uri": "https://localhost:8080/"
        },
        "id": "QIaZ1TTFEStn",
        "outputId": "c67d463f-f171-494b-d0b0-b9e49007494d"
      },
      "execution_count": 40,
      "outputs": [
        {
          "output_type": "stream",
          "name": "stdout",
          "text": [
            "\"\n",
            "Let\n",
            "'s\n",
            "go\n",
            "to\n",
            "N.Y.\n",
            "!\n",
            "\"\n"
          ]
        }
      ]
    },
    {
      "cell_type": "code",
      "source": [
        "type(nlp)"
      ],
      "metadata": {
        "colab": {
          "base_uri": "https://localhost:8080/",
          "height": 221
        },
        "id": "u6uBXytPFx5P",
        "outputId": "ec64691c-2a9f-479d-c439-01c25d35b38e"
      },
      "execution_count": 41,
      "outputs": [
        {
          "output_type": "execute_result",
          "data": {
            "text/plain": [
              "spacy.lang.en.English"
            ],
            "text/html": [
              "<div style=\"max-width:800px; border: 1px solid var(--colab-border-color);\"><style>\n",
              "      pre.function-repr-contents {\n",
              "        overflow-x: auto;\n",
              "        padding: 8px 12px;\n",
              "        max-height: 500px;\n",
              "      }\n",
              "\n",
              "      pre.function-repr-contents.function-repr-contents-collapsed {\n",
              "        cursor: pointer;\n",
              "        max-height: 100px;\n",
              "      }\n",
              "    </style>\n",
              "    <pre style=\"white-space: initial; background:\n",
              "         var(--colab-secondary-surface-color); padding: 8px 12px;\n",
              "         border-bottom: 1px solid var(--colab-border-color);\"><b>spacy.lang.en.English</b><br/>def __call__(text: Union[str, Doc], *, disable: Iterable[str]=SimpleFrozenList(), component_cfg: Optional[Dict[str, Dict[str, Any]]]=None) -&gt; Doc</pre><pre class=\"function-repr-contents function-repr-contents-collapsed\" style=\"\"><a class=\"filepath\" style=\"display:none\" href=\"#\">/usr/local/lib/python3.11/dist-packages/spacy/lang/en/__init__.py</a>A text-processing pipeline. Usually you&#x27;ll load this once per process,\n",
              "and pass the instance around your application.\n",
              "\n",
              "Defaults (class): Settings, data and factory methods for creating the `nlp`\n",
              "    object and processing pipeline.\n",
              "lang (str): IETF language code, such as &#x27;en&#x27;.\n",
              "\n",
              "DOCS: https://spacy.io/api/language</pre>\n",
              "      <script>\n",
              "      if (google.colab.kernel.accessAllowed && google.colab.files && google.colab.files.view) {\n",
              "        for (const element of document.querySelectorAll('.filepath')) {\n",
              "          element.style.display = 'block'\n",
              "          element.onclick = (event) => {\n",
              "            event.preventDefault();\n",
              "            event.stopPropagation();\n",
              "            google.colab.files.view(element.textContent, 22);\n",
              "          };\n",
              "        }\n",
              "      }\n",
              "      for (const element of document.querySelectorAll('.function-repr-contents')) {\n",
              "        element.onclick = (event) => {\n",
              "          event.preventDefault();\n",
              "          event.stopPropagation();\n",
              "          element.classList.toggle('function-repr-contents-collapsed');\n",
              "        };\n",
              "      }\n",
              "      </script>\n",
              "      </div>"
            ]
          },
          "metadata": {},
          "execution_count": 41
        }
      ]
    },
    {
      "cell_type": "code",
      "source": [
        "doc[1:5]"
      ],
      "metadata": {
        "colab": {
          "base_uri": "https://localhost:8080/"
        },
        "id": "h_dhtBf_GWE6",
        "outputId": "6b58ddf2-78a2-46ad-875e-c4b3db52f709"
      },
      "execution_count": 42,
      "outputs": [
        {
          "output_type": "execute_result",
          "data": {
            "text/plain": [
              "Let's go to"
            ]
          },
          "metadata": {},
          "execution_count": 42
        }
      ]
    },
    {
      "cell_type": "code",
      "source": [
        "type(doc)"
      ],
      "metadata": {
        "colab": {
          "base_uri": "https://localhost:8080/"
        },
        "id": "3Mh0XLhCF6gT",
        "outputId": "7a0d4c2c-95d5-4176-b5e2-6375b6c09f78"
      },
      "execution_count": 43,
      "outputs": [
        {
          "output_type": "execute_result",
          "data": {
            "text/plain": [
              "spacy.tokens.doc.Doc"
            ]
          },
          "metadata": {},
          "execution_count": 43
        }
      ]
    },
    {
      "cell_type": "code",
      "source": [
        "type(token)"
      ],
      "metadata": {
        "colab": {
          "base_uri": "https://localhost:8080/"
        },
        "id": "jwpcNA3XGDex",
        "outputId": "62fb812c-76fe-4339-d86a-3d35073bf27c"
      },
      "execution_count": 44,
      "outputs": [
        {
          "output_type": "execute_result",
          "data": {
            "text/plain": [
              "spacy.tokens.token.Token"
            ]
          },
          "metadata": {},
          "execution_count": 44
        }
      ]
    },
    {
      "cell_type": "code",
      "source": [
        "doc = nlp(\"Jonny loves a girl who doesn't love him. Why, its ganja gannjaa like $ no have\")"
      ],
      "metadata": {
        "id": "4UT-5D5dG65P"
      },
      "execution_count": 45,
      "outputs": []
    },
    {
      "cell_type": "code",
      "source": [
        "token0 = doc[0]\n",
        "\n",
        "token0"
      ],
      "metadata": {
        "colab": {
          "base_uri": "https://localhost:8080/"
        },
        "id": "DWkySb2pHWmv",
        "outputId": "fb94ccc4-ae56-402c-97f1-a7a3dd381e1c"
      },
      "execution_count": 46,
      "outputs": [
        {
          "output_type": "execute_result",
          "data": {
            "text/plain": [
              "Jonny"
            ]
          },
          "metadata": {},
          "execution_count": 46
        }
      ]
    },
    {
      "cell_type": "code",
      "source": [
        "type(token0)"
      ],
      "metadata": {
        "colab": {
          "base_uri": "https://localhost:8080/"
        },
        "id": "iCDQzAetHykF",
        "outputId": "b016e954-203c-42d0-c069-02d537c5b9a3"
      },
      "execution_count": 47,
      "outputs": [
        {
          "output_type": "execute_result",
          "data": {
            "text/plain": [
              "spacy.tokens.token.Token"
            ]
          },
          "metadata": {},
          "execution_count": 47
        }
      ]
    },
    {
      "cell_type": "code",
      "source": [
        "dir(token0)"
      ],
      "metadata": {
        "colab": {
          "base_uri": "https://localhost:8080/"
        },
        "id": "8TYOO74-Hdjx",
        "outputId": "7a0225f7-a32d-4a7d-c2c3-8cb7df38013b"
      },
      "execution_count": 48,
      "outputs": [
        {
          "output_type": "execute_result",
          "data": {
            "text/plain": [
              "['_',\n",
              " '__bytes__',\n",
              " '__class__',\n",
              " '__delattr__',\n",
              " '__dir__',\n",
              " '__doc__',\n",
              " '__eq__',\n",
              " '__format__',\n",
              " '__ge__',\n",
              " '__getattribute__',\n",
              " '__getstate__',\n",
              " '__gt__',\n",
              " '__hash__',\n",
              " '__init__',\n",
              " '__init_subclass__',\n",
              " '__le__',\n",
              " '__len__',\n",
              " '__lt__',\n",
              " '__ne__',\n",
              " '__new__',\n",
              " '__pyx_vtable__',\n",
              " '__reduce__',\n",
              " '__reduce_ex__',\n",
              " '__repr__',\n",
              " '__setattr__',\n",
              " '__sizeof__',\n",
              " '__str__',\n",
              " '__subclasshook__',\n",
              " '__unicode__',\n",
              " 'ancestors',\n",
              " 'check_flag',\n",
              " 'children',\n",
              " 'cluster',\n",
              " 'conjuncts',\n",
              " 'dep',\n",
              " 'dep_',\n",
              " 'doc',\n",
              " 'ent_id',\n",
              " 'ent_id_',\n",
              " 'ent_iob',\n",
              " 'ent_iob_',\n",
              " 'ent_kb_id',\n",
              " 'ent_kb_id_',\n",
              " 'ent_type',\n",
              " 'ent_type_',\n",
              " 'get_extension',\n",
              " 'has_dep',\n",
              " 'has_extension',\n",
              " 'has_head',\n",
              " 'has_morph',\n",
              " 'has_vector',\n",
              " 'head',\n",
              " 'i',\n",
              " 'idx',\n",
              " 'iob_strings',\n",
              " 'is_alpha',\n",
              " 'is_ancestor',\n",
              " 'is_ascii',\n",
              " 'is_bracket',\n",
              " 'is_currency',\n",
              " 'is_digit',\n",
              " 'is_left_punct',\n",
              " 'is_lower',\n",
              " 'is_oov',\n",
              " 'is_punct',\n",
              " 'is_quote',\n",
              " 'is_right_punct',\n",
              " 'is_sent_end',\n",
              " 'is_sent_start',\n",
              " 'is_space',\n",
              " 'is_stop',\n",
              " 'is_title',\n",
              " 'is_upper',\n",
              " 'lang',\n",
              " 'lang_',\n",
              " 'left_edge',\n",
              " 'lefts',\n",
              " 'lemma',\n",
              " 'lemma_',\n",
              " 'lex',\n",
              " 'lex_id',\n",
              " 'like_email',\n",
              " 'like_num',\n",
              " 'like_url',\n",
              " 'lower',\n",
              " 'lower_',\n",
              " 'morph',\n",
              " 'n_lefts',\n",
              " 'n_rights',\n",
              " 'nbor',\n",
              " 'norm',\n",
              " 'norm_',\n",
              " 'orth',\n",
              " 'orth_',\n",
              " 'pos',\n",
              " 'pos_',\n",
              " 'prefix',\n",
              " 'prefix_',\n",
              " 'prob',\n",
              " 'rank',\n",
              " 'remove_extension',\n",
              " 'right_edge',\n",
              " 'rights',\n",
              " 'sent',\n",
              " 'sent_start',\n",
              " 'sentiment',\n",
              " 'set_extension',\n",
              " 'set_morph',\n",
              " 'shape',\n",
              " 'shape_',\n",
              " 'similarity',\n",
              " 'subtree',\n",
              " 'suffix',\n",
              " 'suffix_',\n",
              " 'tag',\n",
              " 'tag_',\n",
              " 'tensor',\n",
              " 'text',\n",
              " 'text_with_ws',\n",
              " 'vector',\n",
              " 'vector_norm',\n",
              " 'vocab',\n",
              " 'whitespace_']"
            ]
          },
          "metadata": {},
          "execution_count": 48
        }
      ]
    },
    {
      "cell_type": "code",
      "source": [
        "token0.is_alpha"
      ],
      "metadata": {
        "colab": {
          "base_uri": "https://localhost:8080/"
        },
        "id": "LRjEQ1ZmHkBe",
        "outputId": "6461990a-131c-456f-edfb-ae70fe2e6ee7"
      },
      "execution_count": 49,
      "outputs": [
        {
          "output_type": "execute_result",
          "data": {
            "text/plain": [
              "True"
            ]
          },
          "metadata": {},
          "execution_count": 49
        }
      ]
    },
    {
      "cell_type": "code",
      "source": [
        "token0.like_num # actually nlp last doc is not a number"
      ],
      "metadata": {
        "colab": {
          "base_uri": "https://localhost:8080/"
        },
        "id": "3R3VLhDwH93v",
        "outputId": "e0457fb9-7bfd-456f-e186-229458bb4c67"
      },
      "execution_count": 50,
      "outputs": [
        {
          "output_type": "execute_result",
          "data": {
            "text/plain": [
              "False"
            ]
          },
          "metadata": {},
          "execution_count": 50
        }
      ]
    },
    {
      "cell_type": "code",
      "source": [
        "token2 = doc[2]\n",
        "token2.text"
      ],
      "metadata": {
        "colab": {
          "base_uri": "https://localhost:8080/",
          "height": 35
        },
        "id": "ny5FkujWIPBA",
        "outputId": "88bc6a81-bbb6-45a6-eea4-dfdc8b3748ea"
      },
      "execution_count": 51,
      "outputs": [
        {
          "output_type": "execute_result",
          "data": {
            "text/plain": [
              "'a'"
            ],
            "application/vnd.google.colaboratory.intrinsic+json": {
              "type": "string"
            }
          },
          "metadata": {},
          "execution_count": 51
        }
      ]
    },
    {
      "cell_type": "code",
      "source": [
        "token2.like_num"
      ],
      "metadata": {
        "colab": {
          "base_uri": "https://localhost:8080/"
        },
        "id": "sp0OHJ9_IiYu",
        "outputId": "2964d228-bc3f-462e-8854-f6cbe2cf2a06"
      },
      "execution_count": 52,
      "outputs": [
        {
          "output_type": "execute_result",
          "data": {
            "text/plain": [
              "False"
            ]
          },
          "metadata": {},
          "execution_count": 52
        }
      ]
    },
    {
      "cell_type": "code",
      "source": [
        "doc = nlp(\"Jonny loves one girl $ who doesn't love him. Why, its ganja gannjaa like $ no have\")"
      ],
      "metadata": {
        "id": "R40DlJAKIl1U"
      },
      "execution_count": 53,
      "outputs": []
    },
    {
      "cell_type": "code",
      "source": [
        "token2 = doc[2]\n",
        "\n",
        "token2.text"
      ],
      "metadata": {
        "colab": {
          "base_uri": "https://localhost:8080/",
          "height": 35
        },
        "id": "YqfZpq1tTvTX",
        "outputId": "2a3fd16c-d117-4fe0-c198-54e11650d3bd"
      },
      "execution_count": 54,
      "outputs": [
        {
          "output_type": "execute_result",
          "data": {
            "text/plain": [
              "'one'"
            ],
            "application/vnd.google.colaboratory.intrinsic+json": {
              "type": "string"
            }
          },
          "metadata": {},
          "execution_count": 54
        }
      ]
    },
    {
      "cell_type": "code",
      "source": [
        "token2.like_num"
      ],
      "metadata": {
        "colab": {
          "base_uri": "https://localhost:8080/"
        },
        "id": "Vv2kkfPUUONB",
        "outputId": "2d4f2c78-d431-4b74-9945-59f723f80dc0"
      },
      "execution_count": 55,
      "outputs": [
        {
          "output_type": "execute_result",
          "data": {
            "text/plain": [
              "True"
            ]
          },
          "metadata": {},
          "execution_count": 55
        }
      ]
    },
    {
      "cell_type": "code",
      "source": [
        "token4 = doc[4]\n",
        "\n",
        "token4.text"
      ],
      "metadata": {
        "colab": {
          "base_uri": "https://localhost:8080/",
          "height": 35
        },
        "id": "_lFkokquTdPK",
        "outputId": "7f7d2b62-0d78-4e80-a7c8-a26839912b6e"
      },
      "execution_count": 56,
      "outputs": [
        {
          "output_type": "execute_result",
          "data": {
            "text/plain": [
              "'$'"
            ],
            "application/vnd.google.colaboratory.intrinsic+json": {
              "type": "string"
            }
          },
          "metadata": {},
          "execution_count": 56
        }
      ]
    },
    {
      "cell_type": "code",
      "source": [
        "token4.is_currency"
      ],
      "metadata": {
        "colab": {
          "base_uri": "https://localhost:8080/"
        },
        "id": "wYkIxHgaUpf6",
        "outputId": "ce120b05-148d-49e7-e4f7-9ab94d6a086a"
      },
      "execution_count": 57,
      "outputs": [
        {
          "output_type": "execute_result",
          "data": {
            "text/plain": [
              "True"
            ]
          },
          "metadata": {},
          "execution_count": 57
        }
      ]
    },
    {
      "cell_type": "code",
      "source": [
        "for token in doc:\n",
        "  print(\n",
        "      token, \"==>\", \"index: \", token.i,\n",
        "      \"is_alpha: \", token.is_alpha,\n",
        "      \"is_punct: \", token.is_punct,\n",
        "      \"is_num: \", token.like_num,\n",
        "      \"is_currency: \", token.is_currency,\n",
        "  )"
      ],
      "metadata": {
        "colab": {
          "base_uri": "https://localhost:8080/"
        },
        "id": "Cc8cRbeiUtsy",
        "outputId": "932b52c3-c445-4b73-8fdd-d20f9b2e9aef"
      },
      "execution_count": 58,
      "outputs": [
        {
          "output_type": "stream",
          "name": "stdout",
          "text": [
            "Jonny ==> index:  0 is_alpha:  True is_punct:  False is_num:  False is_currency:  False\n",
            "loves ==> index:  1 is_alpha:  True is_punct:  False is_num:  False is_currency:  False\n",
            "one ==> index:  2 is_alpha:  True is_punct:  False is_num:  True is_currency:  False\n",
            "girl ==> index:  3 is_alpha:  True is_punct:  False is_num:  False is_currency:  False\n",
            "$ ==> index:  4 is_alpha:  False is_punct:  False is_num:  False is_currency:  True\n",
            "who ==> index:  5 is_alpha:  True is_punct:  False is_num:  False is_currency:  False\n",
            "does ==> index:  6 is_alpha:  True is_punct:  False is_num:  False is_currency:  False\n",
            "n't ==> index:  7 is_alpha:  False is_punct:  False is_num:  False is_currency:  False\n",
            "love ==> index:  8 is_alpha:  True is_punct:  False is_num:  False is_currency:  False\n",
            "him ==> index:  9 is_alpha:  True is_punct:  False is_num:  False is_currency:  False\n",
            ". ==> index:  10 is_alpha:  False is_punct:  True is_num:  False is_currency:  False\n",
            "Why ==> index:  11 is_alpha:  True is_punct:  False is_num:  False is_currency:  False\n",
            ", ==> index:  12 is_alpha:  False is_punct:  True is_num:  False is_currency:  False\n",
            "its ==> index:  13 is_alpha:  True is_punct:  False is_num:  False is_currency:  False\n",
            "ganja ==> index:  14 is_alpha:  True is_punct:  False is_num:  False is_currency:  False\n",
            "gannjaa ==> index:  15 is_alpha:  True is_punct:  False is_num:  False is_currency:  False\n",
            "like ==> index:  16 is_alpha:  True is_punct:  False is_num:  False is_currency:  False\n",
            "$ ==> index:  17 is_alpha:  False is_punct:  False is_num:  False is_currency:  True\n",
            "no ==> index:  18 is_alpha:  True is_punct:  False is_num:  False is_currency:  False\n",
            "have ==> index:  19 is_alpha:  True is_punct:  False is_num:  False is_currency:  False\n"
          ]
        }
      ]
    },
    {
      "cell_type": "code",
      "source": [
        "with open(\"/content/File.txt\") as f:\n",
        "  text = f.readlines()\n",
        "\n",
        "text"
      ],
      "metadata": {
        "colab": {
          "base_uri": "https://localhost:8080/"
        },
        "id": "jQihVo3sXpAi",
        "outputId": "5387136c-5f21-49ad-ab39-b28cab4d9488"
      },
      "execution_count": 59,
      "outputs": [
        {
          "output_type": "execute_result",
          "data": {
            "text/plain": [
              "['Daulatpur Multilateral High School, 8th grade students information\\n',\n",
              " '\\n',\n",
              " '\\n',\n",
              " 'Name    birth day       email\\n',\n",
              " '\\n',\n",
              " 'Virat   5 June, 1882    virat@kohli.com\\n',\n",
              " 'Maria   12 April, 2001  maria@sharapova.com\\n',\n",
              " 'Serena  24 June, 1998   serena@willliams.com\\n',\n",
              " 'Joe     1 May, 1997     joe@root.com']"
            ]
          },
          "metadata": {},
          "execution_count": 59
        }
      ]
    },
    {
      "cell_type": "code",
      "source": [
        "text = ' '.join(text)\n",
        "\n",
        "text"
      ],
      "metadata": {
        "colab": {
          "base_uri": "https://localhost:8080/",
          "height": 87
        },
        "id": "SiiY5t-caRwx",
        "outputId": "b75fe856-20a1-4e3b-b8a0-79d1a7093155"
      },
      "execution_count": 60,
      "outputs": [
        {
          "output_type": "execute_result",
          "data": {
            "text/plain": [
              "'Daulatpur Multilateral High School, 8th grade students information\\n \\n \\n Name    birth day       email\\n \\n Virat   5 June, 1882    virat@kohli.com\\n Maria   12 April, 2001  maria@sharapova.com\\n Serena  24 June, 1998   serena@willliams.com\\n Joe     1 May, 1997     joe@root.com'"
            ],
            "application/vnd.google.colaboratory.intrinsic+json": {
              "type": "string"
            }
          },
          "metadata": {},
          "execution_count": 60
        }
      ]
    },
    {
      "cell_type": "code",
      "source": [
        "doc = nlp(text)\n",
        "emails = []\n",
        "\n",
        "for token in doc:\n",
        "  if token.like_email:\n",
        "    emails.append(token.text)\n",
        "\n",
        "emails"
      ],
      "metadata": {
        "colab": {
          "base_uri": "https://localhost:8080/"
        },
        "id": "r4-N-vKQaqKC",
        "outputId": "4b1697db-279d-408f-afe9-0da27fe04780"
      },
      "execution_count": 61,
      "outputs": [
        {
          "output_type": "execute_result",
          "data": {
            "text/plain": [
              "['virat@kohli.com',\n",
              " 'maria@sharapova.com',\n",
              " 'serena@willliams.com',\n",
              " 'joe@root.com']"
            ]
          },
          "metadata": {},
          "execution_count": 61
        }
      ]
    },
    {
      "cell_type": "code",
      "source": [
        "nlp = spacy.blank(\"hi\")\n",
        "\n",
        "doc = nlp(\"৪৭-৭১-২৪ রক্তের বিনিময়ে আমরা এই ভূমি এবং শান্তি অর্জন করেছি।\")\n",
        "for token in doc:\n",
        "  print(token)"
      ],
      "metadata": {
        "colab": {
          "base_uri": "https://localhost:8080/"
        },
        "id": "_PMXOwyfbCjK",
        "outputId": "4fac4069-23ee-4428-cc94-323396d235cb"
      },
      "execution_count": 62,
      "outputs": [
        {
          "output_type": "stream",
          "name": "stdout",
          "text": [
            "৪৭\n",
            "-\n",
            "৭১\n",
            "-\n",
            "২৪\n",
            "রক্তের\n",
            "বিনিময়ে\n",
            "আমরা\n",
            "এই\n",
            "ভূমি\n",
            "এবং\n",
            "শান্তি\n",
            "অর্জন\n",
            "করেছি\n",
            "।\n"
          ]
        }
      ]
    },
    {
      "cell_type": "code",
      "source": [
        "nlp = spacy.blank(\"hi\")\n",
        "\n",
        "doc = nlp(\"৪৭-৭১-২৪ রক্তের বিনিময়ে আমরা এই ভূমি এবং শান্তি অর্জন করেছি।\")\n",
        "for token in doc:\n",
        "  print(token, token.is_currency, token.like_num)"
      ],
      "metadata": {
        "colab": {
          "base_uri": "https://localhost:8080/"
        },
        "id": "igYlrFlehGT7",
        "outputId": "93f5b2ca-79a0-48a2-a4de-530759635679"
      },
      "execution_count": 63,
      "outputs": [
        {
          "output_type": "stream",
          "name": "stdout",
          "text": [
            "৪৭ False True\n",
            "- False False\n",
            "৭১ False True\n",
            "- False False\n",
            "২৪ False True\n",
            "রক্তের False False\n",
            "বিনিময়ে False False\n",
            "আমরা False False\n",
            "এই False False\n",
            "ভূমি False False\n",
            "এবং False False\n",
            "শান্তি False False\n",
            "অর্জন False False\n",
            "করেছি False False\n",
            "। False False\n"
          ]
        }
      ]
    },
    {
      "cell_type": "code",
      "source": [
        "doc = nlp(\"Leveraging my skills in both Front-End Development and Machine Learning/Deep Learning\")\n",
        "\n",
        "tokens = [token.text for token in doc]\n",
        "tokens"
      ],
      "metadata": {
        "colab": {
          "base_uri": "https://localhost:8080/"
        },
        "id": "vgRoNe1yhZ07",
        "outputId": "4e980f28-232a-4db5-c098-57e8cc39094d"
      },
      "execution_count": 64,
      "outputs": [
        {
          "output_type": "execute_result",
          "data": {
            "text/plain": [
              "['Leveraging',\n",
              " 'my',\n",
              " 'skills',\n",
              " 'in',\n",
              " 'both',\n",
              " 'Front',\n",
              " '-',\n",
              " 'End',\n",
              " 'Development',\n",
              " 'and',\n",
              " 'Machine',\n",
              " 'Learning',\n",
              " '/',\n",
              " 'Deep',\n",
              " 'Learning']"
            ]
          },
          "metadata": {},
          "execution_count": 64
        }
      ]
    },
    {
      "cell_type": "code",
      "source": [
        "from spacy.symbols import ORTH\n",
        "\n",
        "nlp.tokenizer.add_special_case(\"skills\", [\n",
        "    {ORTH: \"skil\"},\n",
        "    {ORTH: \"ls\"}\n",
        "])\n",
        "\n",
        "doc = nlp(\"Leveraging my skills in both Front-End Development and Machine Learning/Deep Learning\")\n",
        "tokens = [token.text for token in doc]\n",
        "tokens"
      ],
      "metadata": {
        "id": "LPfTvtgZjgcU",
        "colab": {
          "base_uri": "https://localhost:8080/"
        },
        "outputId": "64a7a924-286d-48bd-965d-e89b7990f2fe"
      },
      "execution_count": 65,
      "outputs": [
        {
          "output_type": "execute_result",
          "data": {
            "text/plain": [
              "['Leveraging',\n",
              " 'my',\n",
              " 'skil',\n",
              " 'ls',\n",
              " 'in',\n",
              " 'both',\n",
              " 'Front',\n",
              " '-',\n",
              " 'End',\n",
              " 'Development',\n",
              " 'and',\n",
              " 'Machine',\n",
              " 'Learning',\n",
              " '/',\n",
              " 'Deep',\n",
              " 'Learning']"
            ]
          },
          "metadata": {},
          "execution_count": 65
        }
      ]
    },
    {
      "cell_type": "code",
      "source": [
        "doc = nlp(\"Prof. Dr. Jannatul Ferdous is a Gynecologist in Dhaka. Her qualification is MBBS (DMC), FCPS (OBGYN), FCPS (Gynecological Oncology).\")\n",
        "\n",
        "for sentence in doc.sents:\n",
        "  print(sentence)"
      ],
      "metadata": {
        "colab": {
          "base_uri": "https://localhost:8080/",
          "height": 297
        },
        "id": "JPaJDn7guVwU",
        "outputId": "f5af05f7-4d1e-41d2-efc2-ed58cb835a99"
      },
      "execution_count": 66,
      "outputs": [
        {
          "output_type": "error",
          "ename": "ValueError",
          "evalue": "[E030] Sentence boundaries unset. You can add the 'sentencizer' component to the pipeline with: `nlp.add_pipe('sentencizer')`. Alternatively, add the dependency parser or sentence recognizer, or set sentence boundaries by setting `doc[i].is_sent_start`.",
          "traceback": [
            "\u001b[0;31m---------------------------------------------------------------------------\u001b[0m",
            "\u001b[0;31mValueError\u001b[0m                                Traceback (most recent call last)",
            "\u001b[0;32m<ipython-input-66-8b57318c5b97>\u001b[0m in \u001b[0;36m<cell line: 0>\u001b[0;34m()\u001b[0m\n\u001b[1;32m      1\u001b[0m \u001b[0mdoc\u001b[0m \u001b[0;34m=\u001b[0m \u001b[0mnlp\u001b[0m\u001b[0;34m(\u001b[0m\u001b[0;34m\"Prof. Dr. Jannatul Ferdous is a Gynecologist in Dhaka. Her qualification is MBBS (DMC), FCPS (OBGYN), FCPS (Gynecological Oncology).\"\u001b[0m\u001b[0;34m)\u001b[0m\u001b[0;34m\u001b[0m\u001b[0;34m\u001b[0m\u001b[0m\n\u001b[1;32m      2\u001b[0m \u001b[0;34m\u001b[0m\u001b[0m\n\u001b[0;32m----> 3\u001b[0;31m \u001b[0;32mfor\u001b[0m \u001b[0msentence\u001b[0m \u001b[0;32min\u001b[0m \u001b[0mdoc\u001b[0m\u001b[0;34m.\u001b[0m\u001b[0msents\u001b[0m\u001b[0;34m:\u001b[0m\u001b[0;34m\u001b[0m\u001b[0;34m\u001b[0m\u001b[0m\n\u001b[0m\u001b[1;32m      4\u001b[0m   \u001b[0mprint\u001b[0m\u001b[0;34m(\u001b[0m\u001b[0msentence\u001b[0m\u001b[0;34m)\u001b[0m\u001b[0;34m\u001b[0m\u001b[0;34m\u001b[0m\u001b[0m\n",
            "\u001b[0;32m/usr/local/lib/python3.11/dist-packages/spacy/tokens/doc.pyx\u001b[0m in \u001b[0;36msents\u001b[0;34m()\u001b[0m\n",
            "\u001b[0;31mValueError\u001b[0m: [E030] Sentence boundaries unset. You can add the 'sentencizer' component to the pipeline with: `nlp.add_pipe('sentencizer')`. Alternatively, add the dependency parser or sentence recognizer, or set sentence boundaries by setting `doc[i].is_sent_start`."
          ]
        }
      ]
    },
    {
      "cell_type": "code",
      "source": [
        "nlp.pipe_names"
      ],
      "metadata": {
        "colab": {
          "base_uri": "https://localhost:8080/"
        },
        "id": "xTg0M7zIv-rz",
        "outputId": "8660ba40-2173-4432-f7ec-352401407d9c"
      },
      "execution_count": 67,
      "outputs": [
        {
          "output_type": "execute_result",
          "data": {
            "text/plain": [
              "[]"
            ]
          },
          "metadata": {},
          "execution_count": 67
        }
      ]
    },
    {
      "cell_type": "code",
      "source": [
        "nlp.add_pipe('sentencizer')"
      ],
      "metadata": {
        "colab": {
          "base_uri": "https://localhost:8080/"
        },
        "id": "OAR1JcIYz8IW",
        "outputId": "257a4a99-aaf0-438b-846f-e618c2a0ab47"
      },
      "execution_count": 68,
      "outputs": [
        {
          "output_type": "execute_result",
          "data": {
            "text/plain": [
              "<spacy.pipeline.sentencizer.Sentencizer at 0x7bee0281ea10>"
            ]
          },
          "metadata": {},
          "execution_count": 68
        }
      ]
    },
    {
      "cell_type": "code",
      "source": [
        "nlp.pipe_names"
      ],
      "metadata": {
        "colab": {
          "base_uri": "https://localhost:8080/"
        },
        "id": "SIcNdzih0B5l",
        "outputId": "7f33e40b-72bf-4efe-84eb-8562f1acf0bb"
      },
      "execution_count": 69,
      "outputs": [
        {
          "output_type": "execute_result",
          "data": {
            "text/plain": [
              "['sentencizer']"
            ]
          },
          "metadata": {},
          "execution_count": 69
        }
      ]
    },
    {
      "cell_type": "code",
      "source": [
        "doc = nlp(\"Prof. Dr. Jannatul Ferdous is a Gynecologist in Dhaka. Her qualification is MBBS (DMC), FCPS (OBGYN), FCPS (Gynecological Oncology).\")\n",
        "\n",
        "for sentence in doc.sents:\n",
        "  print(sentence)"
      ],
      "metadata": {
        "colab": {
          "base_uri": "https://localhost:8080/"
        },
        "id": "avRinQl_z1nS",
        "outputId": "258b4c44-f013-49a1-e6bb-97b06630fefd"
      },
      "execution_count": 70,
      "outputs": [
        {
          "output_type": "stream",
          "name": "stdout",
          "text": [
            "Prof.\n",
            "Dr.\n",
            "Jannatul Ferdous is a Gynecologist in Dhaka.\n",
            "Her qualification is MBBS (DMC), FCPS (OBGYN), FCPS (Gynecological Oncology).\n"
          ]
        }
      ]
    },
    {
      "cell_type": "code",
      "source": [],
      "metadata": {
        "id": "2IlC1tAB0FVd"
      },
      "execution_count": null,
      "outputs": []
    }
  ]
}