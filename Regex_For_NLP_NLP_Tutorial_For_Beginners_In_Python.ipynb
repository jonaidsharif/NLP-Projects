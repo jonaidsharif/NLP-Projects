{
  "nbformat": 4,
  "nbformat_minor": 0,
  "metadata": {
    "colab": {
      "provenance": [],
      "authorship_tag": "ABX9TyPsWVhtsLkoZwQgSqc00yXi",
      "include_colab_link": true
    },
    "kernelspec": {
      "name": "python3",
      "display_name": "Python 3"
    },
    "language_info": {
      "name": "python"
    }
  },
  "cells": [
    {
      "cell_type": "markdown",
      "metadata": {
        "id": "view-in-github",
        "colab_type": "text"
      },
      "source": [
        "<a href=\"https://colab.research.google.com/github/jonaidsharif/NLP-Projects/blob/main/Regex_For_NLP_NLP_Tutorial_For_Beginners_In_Python.ipynb\" target=\"_parent\"><img src=\"https://colab.research.google.com/assets/colab-badge.svg\" alt=\"Open In Colab\"/></a>"
      ]
    },
    {
      "cell_type": "code",
      "execution_count": 1,
      "metadata": {
        "id": "lzkoX9EHd9kw"
      },
      "outputs": [],
      "source": [
        "import re"
      ]
    },
    {
      "cell_type": "code",
      "source": [
        "chat1= 'codebasics: you ask a lot of questions 🙂 1235678912, abc@xyz.com'\n",
        "chat2 = 'codebasics: here it is: (123)-567-8912,  abc@xyz.com'\n",
        "chat3 = 'codebasics: yes, phone: 1235678912 email: abc@xyz.com'"
      ],
      "metadata": {
        "id": "A-RJ5cqTeEfz"
      },
      "execution_count": 2,
      "outputs": []
    },
    {
      "cell_type": "code",
      "source": [
        "pattern = '\\d{10}'\n",
        "\n",
        "matches = re.findall(pattern, chat1)\n",
        "matches"
      ],
      "metadata": {
        "id": "MqikXgVQkx7C",
        "colab": {
          "base_uri": "https://localhost:8080/"
        },
        "outputId": "c195e611-2dfe-4715-b23c-9045846871d4"
      },
      "execution_count": 3,
      "outputs": [
        {
          "output_type": "execute_result",
          "data": {
            "text/plain": [
              "['1235678912']"
            ]
          },
          "metadata": {},
          "execution_count": 3
        }
      ]
    },
    {
      "cell_type": "code",
      "source": [
        "pattern = '\\d{10}'\n",
        "\n",
        "matches = re.findall(pattern, chat2)\n",
        "matches"
      ],
      "metadata": {
        "colab": {
          "base_uri": "https://localhost:8080/"
        },
        "id": "wQ_I58xv_I_K",
        "outputId": "4b80f045-7f06-42dc-8ca6-03fbd46685c4"
      },
      "execution_count": 4,
      "outputs": [
        {
          "output_type": "execute_result",
          "data": {
            "text/plain": [
              "[]"
            ]
          },
          "metadata": {},
          "execution_count": 4
        }
      ]
    },
    {
      "cell_type": "code",
      "source": [
        "pattern = r'\\(\\d{3}\\)-\\d{3}-\\d{4}'\n",
        "\n",
        "matches = re.findall(pattern, chat2)\n",
        "matches"
      ],
      "metadata": {
        "colab": {
          "base_uri": "https://localhost:8080/"
        },
        "id": "Os0w85SRjK3U",
        "outputId": "c96bffa9-3818-479b-c96c-4911764491a2"
      },
      "execution_count": 5,
      "outputs": [
        {
          "output_type": "execute_result",
          "data": {
            "text/plain": [
              "['(123)-567-8912']"
            ]
          },
          "metadata": {},
          "execution_count": 5
        }
      ]
    },
    {
      "cell_type": "code",
      "source": [
        "chat1 = 'codebasics: you ask a lot of questions 🙂 1235678912, abc@xyz.com, 9998881234'\n",
        "chat2 = 'codebasics: here it is: (123)-567-8912, abc@xyz.com'\n",
        "chat3 = 'codebasics: yes, phone: 1235678912 email: abc@xyz.com'"
      ],
      "metadata": {
        "id": "KlL4KHXayClf"
      },
      "execution_count": 6,
      "outputs": []
    },
    {
      "cell_type": "code",
      "source": [
        "pattern = '\\d{10}'\n",
        "\n",
        "matches = re.findall(pattern, chat1)\n",
        "matches"
      ],
      "metadata": {
        "colab": {
          "base_uri": "https://localhost:8080/"
        },
        "id": "X_TDcldW_ZoE",
        "outputId": "b5b3f5c3-8d4e-4437-bf8a-d6ad71967702"
      },
      "execution_count": 7,
      "outputs": [
        {
          "output_type": "execute_result",
          "data": {
            "text/plain": [
              "['1235678912', '9998881234']"
            ]
          },
          "metadata": {},
          "execution_count": 7
        }
      ]
    },
    {
      "cell_type": "code",
      "source": [
        "pattern = '\\d{10}|\\(\\d{3}\\)-\\d{3}-\\d{4}'\n",
        "\n",
        "matches = re.findall(pattern, chat2)\n",
        "matches"
      ],
      "metadata": {
        "id": "ngOHcE9fxsVZ",
        "colab": {
          "base_uri": "https://localhost:8080/"
        },
        "outputId": "26a491c5-15f8-4d4f-873a-213fb3eeddd2"
      },
      "execution_count": 8,
      "outputs": [
        {
          "output_type": "execute_result",
          "data": {
            "text/plain": [
              "['(123)-567-8912']"
            ]
          },
          "metadata": {},
          "execution_count": 8
        }
      ]
    },
    {
      "cell_type": "code",
      "source": [
        "pattern = '\\d{10}|\\(\\d{3}\\)-\\d{3}-\\d{4}'\n",
        "\n",
        "matches = re.findall(pattern, chat3)\n",
        "matches"
      ],
      "metadata": {
        "colab": {
          "base_uri": "https://localhost:8080/"
        },
        "id": "IcVp1olcB2ZY",
        "outputId": "ea034fed-47e9-4814-c3f5-0246d044ae17"
      },
      "execution_count": 9,
      "outputs": [
        {
          "output_type": "execute_result",
          "data": {
            "text/plain": [
              "['1235678912']"
            ]
          },
          "metadata": {},
          "execution_count": 9
        }
      ]
    },
    {
      "cell_type": "code",
      "source": [
        "chat1 = 'codebasics: you ask a lot of questions 🙂 1235678912, abC29@xyz.com, 9998881234'\n",
        "chat2 = 'codebasics: here it is: (123)-567-8912, abc_SCz@xyz.com'\n",
        "chat3 = 'codebasics: yes, phone: 1235678912 email: abC@xyz.io'"
      ],
      "metadata": {
        "id": "Lz6MwMEQCgKd"
      },
      "execution_count": 10,
      "outputs": []
    },
    {
      "cell_type": "code",
      "source": [
        "pattern = '[a-z00-9A-Z_]*@[a-z00-9A-Z]*\\.[a-z00-9A-Z]*'\n",
        "\n",
        "matches = re.findall(pattern, chat3)\n",
        "email = matches[0]\n",
        "email"
      ],
      "metadata": {
        "colab": {
          "base_uri": "https://localhost:8080/",
          "height": 35
        },
        "id": "9J9G1Q8OILre",
        "outputId": "90dca190-45d2-4903-a803-d196ed8cd81a"
      },
      "execution_count": 11,
      "outputs": [
        {
          "output_type": "execute_result",
          "data": {
            "text/plain": [
              "'abC@xyz.io'"
            ],
            "application/vnd.google.colaboratory.intrinsic+json": {
              "type": "string"
            }
          },
          "metadata": {},
          "execution_count": 11
        }
      ]
    },
    {
      "cell_type": "code",
      "source": [
        "pattern = '[a-z00-9A-Z_]*@[a-z00-9A-Z]*\\.[a-z00-9A-Z]*'\n",
        "\n",
        "matches = re.findall(pattern, chat2)\n",
        "email = matches[0]\n",
        "email"
      ],
      "metadata": {
        "colab": {
          "base_uri": "https://localhost:8080/",
          "height": 35
        },
        "id": "yMqbjOA2Ikfh",
        "outputId": "2e9f59b7-a62a-4e33-8676-190830d9b83f"
      },
      "execution_count": 12,
      "outputs": [
        {
          "output_type": "execute_result",
          "data": {
            "text/plain": [
              "'abc_SCz@xyz.com'"
            ],
            "application/vnd.google.colaboratory.intrinsic+json": {
              "type": "string"
            }
          },
          "metadata": {},
          "execution_count": 12
        }
      ]
    },
    {
      "cell_type": "code",
      "source": [
        "pattern = '[a-z00-9A-Z_]*@[a-z00-9A-Z]*\\.[a-z00-9A-Z]*'\n",
        "\n",
        "matches = re.findall(pattern, chat1)\n",
        "email = matches[0]\n",
        "email"
      ],
      "metadata": {
        "colab": {
          "base_uri": "https://localhost:8080/",
          "height": 35
        },
        "id": "GEwRcvBiJBU1",
        "outputId": "363f5810-91d9-40d5-d892-c080fd907d0e"
      },
      "execution_count": 13,
      "outputs": [
        {
          "output_type": "execute_result",
          "data": {
            "text/plain": [
              "'abC29@xyz.com'"
            ],
            "application/vnd.google.colaboratory.intrinsic+json": {
              "type": "string"
            }
          },
          "metadata": {},
          "execution_count": 13
        }
      ]
    },
    {
      "cell_type": "code",
      "source": [
        "chat1='codebasics: Hello, I am having an issue with my order # 412889912'\n",
        "chat2='codebasics: I have a problem with my order number 412889912'\n",
        "chat3='codebasics: My order 412889912 is having an issue, I was charged 300$ when online it says 280$'"
      ],
      "metadata": {
        "id": "kATrFdDvJHOV"
      },
      "execution_count": 14,
      "outputs": []
    },
    {
      "cell_type": "code",
      "source": [
        "pattern = 'order[^\\d]*(\\d*)'\n",
        "\n",
        "matches = re.findall(pattern, chat2)\n",
        "email = matches\n",
        "email"
      ],
      "metadata": {
        "colab": {
          "base_uri": "https://localhost:8080/"
        },
        "id": "CrXaLylyMS3M",
        "outputId": "b1b80beb-9202-4005-8e68-997baef71b3c"
      },
      "execution_count": 15,
      "outputs": [
        {
          "output_type": "execute_result",
          "data": {
            "text/plain": [
              "['412889912']"
            ]
          },
          "metadata": {},
          "execution_count": 15
        }
      ]
    },
    {
      "cell_type": "code",
      "source": [
        "text = '''\n",
        "Born\tElon Reeve Musk\n",
        "June 28, 1971 (age 53)\n",
        "Pretoria, South Africa\n",
        "Citizenship\n",
        "South Africa\n",
        "Canada\n",
        "United States (from 2002)\n",
        "Political party\tIndependent\n",
        "Spouses\t age 785\n",
        "Justine Wilson\n",
        "​\n",
        "​(m. 2000; div. 2008)​\n",
        "Talulah Riley\n",
        "​\n",
        "​(m. 2010; div. 2012)​\n",
        "​\n",
        "​(m. 2013; div. 2016)​\n",
        "Domestic partner\tGrimes (2018–2021)\n",
        "Children\tAt least 14, including Vivian Wilson[1]\n",
        "Parents\n",
        "Errol Musk (father)\n",
        "Maye Musk (mother)\n",
        "Relatives\tMusk family\n",
        "Education\tUniversity of Pennsylvania (BA, BS)\n",
        "Occupation\n",
        "CEO and product architect of Tesla\n",
        "Founder, CEO, and chief engineer of SpaceX\n",
        "Founder and CEO of xAI\n",
        "Founder of the Boring Company and X Corp.\n",
        "Co-founder of Neuralink, OpenAI, Zip2, and X.com (part of PayPal)\n",
        "President of the Musk Foundation\n",
        "De facto leader of the Department of Government Efficiency\n",
        "Awards\tFull list\n",
        "'''"
      ],
      "metadata": {
        "id": "6DenmCx3Mkt7"
      },
      "execution_count": 16,
      "outputs": []
    },
    {
      "cell_type": "code",
      "source": [
        "pattern = 'age (\\d+)'\n",
        "\n",
        "matches = re.findall(pattern, text)\n",
        "matches"
      ],
      "metadata": {
        "colab": {
          "base_uri": "https://localhost:8080/"
        },
        "id": "HNTlFXp4tcsQ",
        "outputId": "adfad854-e85f-45fb-82de-70c14881f156"
      },
      "execution_count": 17,
      "outputs": [
        {
          "output_type": "execute_result",
          "data": {
            "text/plain": [
              "['53', '785']"
            ]
          },
          "metadata": {},
          "execution_count": 17
        }
      ]
    },
    {
      "cell_type": "code",
      "source": [
        "pattern = 'Born(.*)\\n'\n",
        "\n",
        "matches = re.findall(pattern, text)\n",
        "matches"
      ],
      "metadata": {
        "colab": {
          "base_uri": "https://localhost:8080/"
        },
        "id": "ZZbs5wIAt2KG",
        "outputId": "eb6eea35-6382-4ca8-f3fd-47384fcaf554"
      },
      "execution_count": 18,
      "outputs": [
        {
          "output_type": "execute_result",
          "data": {
            "text/plain": [
              "['\\tElon Reeve Musk']"
            ]
          },
          "metadata": {},
          "execution_count": 18
        }
      ]
    },
    {
      "cell_type": "code",
      "source": [
        "pattern = 'Born(.*)\\n'\n",
        "\n",
        "matches = re.findall(pattern, text)\n",
        "matches[0].strip()"
      ],
      "metadata": {
        "colab": {
          "base_uri": "https://localhost:8080/",
          "height": 35
        },
        "id": "M4VQKJA7u6C4",
        "outputId": "b7186136-0e6a-47f2-b8b9-966af7ec17da"
      },
      "execution_count": 19,
      "outputs": [
        {
          "output_type": "execute_result",
          "data": {
            "text/plain": [
              "'Elon Reeve Musk'"
            ],
            "application/vnd.google.colaboratory.intrinsic+json": {
              "type": "string"
            }
          },
          "metadata": {},
          "execution_count": 19
        }
      ]
    },
    {
      "cell_type": "code",
      "source": [
        "pattern = 'Born.*\\n(.*)\\(age'\n",
        "\n",
        "matches = re.findall(pattern, text)\n",
        "matches[0].strip()"
      ],
      "metadata": {
        "colab": {
          "base_uri": "https://localhost:8080/",
          "height": 35
        },
        "id": "9a_tMQ9GvKgx",
        "outputId": "4fe2e544-5fdf-473f-f78c-60c2dd7d1541"
      },
      "execution_count": 20,
      "outputs": [
        {
          "output_type": "execute_result",
          "data": {
            "text/plain": [
              "'June 28, 1971'"
            ],
            "application/vnd.google.colaboratory.intrinsic+json": {
              "type": "string"
            }
          },
          "metadata": {},
          "execution_count": 20
        }
      ]
    },
    {
      "cell_type": "code",
      "source": [
        "pattern = '\\(age.*\\n(.*)'\n",
        "\n",
        "matches = re.findall(pattern, text)\n",
        "matches[0].strip()"
      ],
      "metadata": {
        "colab": {
          "base_uri": "https://localhost:8080/",
          "height": 35
        },
        "id": "7kcDmPDav6-O",
        "outputId": "b1f4883c-8df3-4b36-ea18-530a63ff87e9"
      },
      "execution_count": 21,
      "outputs": [
        {
          "output_type": "execute_result",
          "data": {
            "text/plain": [
              "'Pretoria, South Africa'"
            ],
            "application/vnd.google.colaboratory.intrinsic+json": {
              "type": "string"
            }
          },
          "metadata": {},
          "execution_count": 21
        }
      ]
    },
    {
      "cell_type": "code",
      "source": [
        "def get_pattern_match(pattern, text):\n",
        "    matches = re.findall(pattern, text)\n",
        "    if matches:\n",
        "        return matches[0]"
      ],
      "metadata": {
        "id": "P72WKDoKw8N6"
      },
      "execution_count": 22,
      "outputs": []
    },
    {
      "cell_type": "code",
      "source": [
        "get_pattern_match('\\(age.*\\n(.*)', text)"
      ],
      "metadata": {
        "colab": {
          "base_uri": "https://localhost:8080/",
          "height": 35
        },
        "id": "G8QJVtkpyEl8",
        "outputId": "0af864e4-5268-47a2-f71a-e1045b734521"
      },
      "execution_count": 23,
      "outputs": [
        {
          "output_type": "execute_result",
          "data": {
            "text/plain": [
              "'Pretoria, South Africa'"
            ],
            "application/vnd.google.colaboratory.intrinsic+json": {
              "type": "string"
            }
          },
          "metadata": {},
          "execution_count": 23
        }
      ]
    },
    {
      "cell_type": "code",
      "source": [
        "def get_personal_information(text):\n",
        "  age = get_pattern_match('age (\\d+)', text)\n",
        "  full_name = get_pattern_match('Born(.*)\\n', text)\n",
        "  birth_date = get_pattern_match('Born.*\\n(.*)\\(age', text)\n",
        "  # Updated pattern to correctly extract birth place\n",
        "  birth_place = get_pattern_match('\\(age \\d+\\)\\n(.*)', text)\n",
        "\n",
        "  # Handle potential None values before stripping\n",
        "  return {\n",
        "      'age': int(age) if age else None, # Convert to int if not None\n",
        "      'name': full_name.strip() if full_name else None,\n",
        "      'birth_date': birth_date.strip() if birth_date else None,\n",
        "      'birth_place': birth_place.strip() if birth_place else None # Strip if not None\n",
        "  }"
      ],
      "metadata": {
        "id": "JRpAtkVxyc9V"
      },
      "execution_count": 31,
      "outputs": []
    },
    {
      "cell_type": "code",
      "source": [
        "get_personal_information(text)"
      ],
      "metadata": {
        "colab": {
          "base_uri": "https://localhost:8080/"
        },
        "id": "3nLdmPbQy5K2",
        "outputId": "bdf5c950-12fa-40b8-ca6e-b4c1f9207e27"
      },
      "execution_count": 32,
      "outputs": [
        {
          "output_type": "execute_result",
          "data": {
            "text/plain": [
              "{'age': 53,\n",
              " 'name': 'Elon Reeve Musk',\n",
              " 'birth_date': 'June 28, 1971',\n",
              " 'birth_place': 'Pretoria, South Africa'}"
            ]
          },
          "metadata": {},
          "execution_count": 32
        }
      ]
    },
    {
      "cell_type": "code",
      "source": [],
      "metadata": {
        "id": "z7fsBInA0JR-"
      },
      "execution_count": null,
      "outputs": []
    }
  ]
}